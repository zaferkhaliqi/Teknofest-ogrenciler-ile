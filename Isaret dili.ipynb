{
  "cells": [
    {
      "cell_type": "code",
      "execution_count": null,
      "metadata": {
        "id": "aDOk-aLmz9Ph"
      },
      "outputs": [],
      "source": []
    },
    {
      "cell_type": "markdown",
      "metadata": {
        "id": "Jas_zkXnTpC7"
      },
      "source": [
        "Yapılacaklar\n"
      ]
    },
    {
      "cell_type": "code",
      "execution_count": null,
      "metadata": {
        "id": "JYV_E3QQ00hH"
      },
      "outputs": [],
      "source": [
        "# ilk olarak, verisetimizin oldugu klasoru zip dosyasina cevirecegiz #\n",
        "# zip dosyasini drive'e yukleyecegiz #\n",
        "# colab platformuna baglanacagiz #\n",
        "# google drive'e baglanacagiz #\n",
        "# kutuphaneleri yukleyecegiz #\n",
        "# veriestini zipten cikaracagiz kod ile #\n",
        "# goruntulerin tam konumuna ulasamamiz lazim #\n",
        "# goruntunun pixellerini goruntutun tam konumundan ulasacagiz#\n",
        "# goruntuyu bir listeye atacagiz #\n",
        "# goruntulerin bulundugu listeyi numpy arrary'sine cevirecegiz#\n",
        "# etiketleri yukleyecegiz #\n",
        "# verisetini egitim, test ve validasyon olarak ayiracagiz\n",
        "# siniragi modelimizi olusturacagiz\n",
        "# siniragini egitecegiz ve agirliklari kaydecegiz\n"
      ]
    },
    {
      "cell_type": "code",
      "execution_count": null,
      "metadata": {
        "id": "MsfwKmaBO_6W"
      },
      "outputs": [],
      "source": []
    },
    {
      "cell_type": "code",
      "execution_count": 1,
      "metadata": {
        "colab": {
          "base_uri": "https://localhost:8080/"
        },
        "id": "ekVADkMH5rvp",
        "outputId": "6c3cd7c3-8f5e-400d-98da-9f5e96c94984"
      },
      "outputs": [
        {
          "name": "stdout",
          "output_type": "stream",
          "text": [
            "Mounted at /content/drive\n"
          ]
        }
      ],
      "source": [
        "from google.colab import drive\n",
        "drive.mount('/content/drive')"
      ]
    },
    {
      "cell_type": "code",
      "execution_count": 2,
      "metadata": {
        "id": "e094VObP00PI"
      },
      "outputs": [],
      "source": [
        "#import zipfile\n",
        "import os\n",
        "from tqdm import tqdm\n",
        "import cv2 as opencv\n",
        "import pandas as pd\n",
        "import matplotlib.pyplot as plt\n",
        "import numpy as np\n",
        "\n"
      ]
    },
    {
      "cell_type": "code",
      "execution_count": null,
      "metadata": {
        "id": "NXBHps48TPok"
      },
      "outputs": [],
      "source": [
        "from zipfile import ZipFile"
      ]
    },
    {
      "cell_type": "code",
      "execution_count": 3,
      "metadata": {
        "colab": {
          "base_uri": "https://localhost:8080/"
        },
        "id": "58cqRJdn1KWU",
        "outputId": "2a626c70-e0aa-4eb3-d63c-f0c91053e66b"
      },
      "outputs": [
        {
          "name": "stderr",
          "output_type": "stream",
          "text": [
            "Dosyalar çıkartılıyor: 100%|██████████| 3272/3272 [00:03<00:00, 1072.21it/s]"
          ]
        },
        {
          "name": "stdout",
          "output_type": "stream",
          "text": [
            "Dosya başarıyla çıkartıldı.\n"
          ]
        },
        {
          "name": "stderr",
          "output_type": "stream",
          "text": [
            "\n"
          ]
        }
      ],
      "source": [
        "import zipfile\n",
        "from tqdm import tqdm\n",
        "\n",
        "# Zip dosyasının konumu\n",
        "zip_dosya_konumu = \"/content/drive/MyDrive/TumGoruntuler.zip\"\n",
        "# Çıkartılacak klasör konumu\n",
        "hedef_klasor = \"/content/veriseti\"\n",
        "\n",
        "# Zip dosyasını aç\n",
        "with zipfile.ZipFile(zip_dosya_konumu, 'r') as zip_ref:\n",
        "    # İlerleme çubuğu için dosya sayısını al\n",
        "    dosya_sayısı = len(zip_ref.infolist())\n",
        "\n",
        "    # tqdm kullanarak ilerleme çubuğunu oluştur\n",
        "    with tqdm(total=dosya_sayısı, desc=\"Dosyalar çıkartılıyor\") as pbar:\n",
        "        # Tüm içeriği hedef klasöre çıkart\n",
        "        for dosya in zip_ref.infolist():\n",
        "            zip_ref.extract(dosya.filename, hedef_klasor)\n",
        "            pbar.update(1)\n",
        "\n",
        "print(\"Dosya başarıyla çıkartıldı.\")\n"
      ]
    },
    {
      "cell_type": "code",
      "execution_count": 6,
      "metadata": {
        "colab": {
          "base_uri": "https://localhost:8080/"
        },
        "id": "PNuiACmf0zzN",
        "outputId": "9fa3198e-f394-4332-ca9a-5c5d65e9c8d1"
      },
      "outputs": [
        {
          "name": "stdout",
          "output_type": "stream",
          "text": [
            "3272\n"
          ]
        }
      ],
      "source": [
        "folder = '/content/veriseti/TumGoruntuler'\n",
        "files = os.listdir(folder)\n",
        "print(len(files))"
      ]
    },
    {
      "cell_type": "code",
      "execution_count": 7,
      "metadata": {
        "colab": {
          "base_uri": "https://localhost:8080/"
        },
        "id": "2N49_XUc0zfB",
        "outputId": "914e226c-d596-4fd7-d0d2-0fcaef886f48"
      },
      "outputs": [
        {
          "name": "stderr",
          "output_type": "stream",
          "text": [
            "100%|██████████| 3272/3272 [00:07<00:00, 450.80it/s]\n"
          ]
        }
      ],
      "source": [
        "images = []\n",
        "for file in tqdm(range(len(files))):\n",
        "    file = str(file)+'.jpg'\n",
        "    fullpath = os.path.join(folder,file)\n",
        "    img = opencv.imread(fullpath)\n",
        "    img = opencv.cvtColor(img,opencv.COLOR_RGB2GRAY) #\n",
        "    img_normalized = img / 255.0  # Normalize pixel values to range [0, 1]\n",
        "\n",
        "    images.append(img_normalized)\n"
      ]
    },
    {
      "cell_type": "markdown",
      "metadata": {
        "id": "MQPAW2gY503i"
      },
      "source": []
    },
    {
      "cell_type": "markdown",
      "metadata": {
        "id": "V6oBlgFVyYxx"
      },
      "source": []
    },
    {
      "cell_type": "code",
      "execution_count": null,
      "metadata": {
        "id": "8hgMQhAs5cEk"
      },
      "outputs": [],
      "source": [
        "images = np.asarray(images)"
      ]
    },
    {
      "cell_type": "code",
      "execution_count": null,
      "metadata": {
        "colab": {
          "base_uri": "https://localhost:8080/"
        },
        "id": "F_ghNy365dW3",
        "outputId": "2696a97d-900d-4d16-ebbf-26de77b66f4e"
      },
      "outputs": [
        {
          "name": "stdout",
          "output_type": "stream",
          "text": [
            "<class 'numpy.ndarray'>\n"
          ]
        }
      ],
      "source": [
        "print(type(images))"
      ]
    },
    {
      "cell_type": "code",
      "execution_count": null,
      "metadata": {
        "colab": {
          "base_uri": "https://localhost:8080/",
          "height": 423
        },
        "id": "7RXPxm8B6Arb",
        "outputId": "caebd439-8f21-4cca-cbc7-3cbb5edaed9a"
      },
      "outputs": [
        {
          "data": {
            "application/vnd.google.colaboratory.intrinsic+json": {
              "summary": "{\n  \"name\": \"etiketler\",\n  \"rows\": 1337,\n  \"fields\": [\n    {\n      \"column\": \"Sinif_A\",\n      \"properties\": {\n        \"dtype\": \"number\",\n        \"std\": 0,\n        \"min\": 0,\n        \"max\": 1,\n        \"num_unique_values\": 2,\n        \"samples\": [\n          0,\n          1\n        ],\n        \"semantic_type\": \"\",\n        \"description\": \"\"\n      }\n    },\n    {\n      \"column\": \"Sinif_B\",\n      \"properties\": {\n        \"dtype\": \"number\",\n        \"std\": 0,\n        \"min\": 0,\n        \"max\": 1,\n        \"num_unique_values\": 2,\n        \"samples\": [\n          1,\n          0\n        ],\n        \"semantic_type\": \"\",\n        \"description\": \"\"\n      }\n    },\n    {\n      \"column\": \"Sinif_E\",\n      \"properties\": {\n        \"dtype\": \"number\",\n        \"std\": 0,\n        \"min\": 0,\n        \"max\": 1,\n        \"num_unique_values\": 2,\n        \"samples\": [\n          1,\n          0\n        ],\n        \"semantic_type\": \"\",\n        \"description\": \"\"\n      }\n    },\n    {\n      \"column\": \"Sinif_H\",\n      \"properties\": {\n        \"dtype\": \"number\",\n        \"std\": 0,\n        \"min\": 0,\n        \"max\": 1,\n        \"num_unique_values\": 2,\n        \"samples\": [\n          1,\n          0\n        ],\n        \"semantic_type\": \"\",\n        \"description\": \"\"\n      }\n    },\n    {\n      \"column\": \"Sinif_M\",\n      \"properties\": {\n        \"dtype\": \"number\",\n        \"std\": 0,\n        \"min\": 0,\n        \"max\": 1,\n        \"num_unique_values\": 2,\n        \"samples\": [\n          1,\n          0\n        ],\n        \"semantic_type\": \"\",\n        \"description\": \"\"\n      }\n    },\n    {\n      \"column\": \"Sinif_R\",\n      \"properties\": {\n        \"dtype\": \"number\",\n        \"std\": 0,\n        \"min\": 0,\n        \"max\": 1,\n        \"num_unique_values\": 2,\n        \"samples\": [\n          1,\n          0\n        ],\n        \"semantic_type\": \"\",\n        \"description\": \"\"\n      }\n    }\n  ]\n}",
              "type": "dataframe",
              "variable_name": "etiketler"
            },
            "text/html": [
              "\n",
              "  <div id=\"df-ef813ab9-91f6-4807-93ff-c911e55fde7e\" class=\"colab-df-container\">\n",
              "    <div>\n",
              "<style scoped>\n",
              "    .dataframe tbody tr th:only-of-type {\n",
              "        vertical-align: middle;\n",
              "    }\n",
              "\n",
              "    .dataframe tbody tr th {\n",
              "        vertical-align: top;\n",
              "    }\n",
              "\n",
              "    .dataframe thead th {\n",
              "        text-align: right;\n",
              "    }\n",
              "</style>\n",
              "<table border=\"1\" class=\"dataframe\">\n",
              "  <thead>\n",
              "    <tr style=\"text-align: right;\">\n",
              "      <th></th>\n",
              "      <th>Sinif_A</th>\n",
              "      <th>Sinif_B</th>\n",
              "      <th>Sinif_E</th>\n",
              "      <th>Sinif_H</th>\n",
              "      <th>Sinif_M</th>\n",
              "      <th>Sinif_R</th>\n",
              "    </tr>\n",
              "  </thead>\n",
              "  <tbody>\n",
              "    <tr>\n",
              "      <th>0</th>\n",
              "      <td>1</td>\n",
              "      <td>0</td>\n",
              "      <td>0</td>\n",
              "      <td>0</td>\n",
              "      <td>0</td>\n",
              "      <td>0</td>\n",
              "    </tr>\n",
              "    <tr>\n",
              "      <th>1</th>\n",
              "      <td>1</td>\n",
              "      <td>0</td>\n",
              "      <td>0</td>\n",
              "      <td>0</td>\n",
              "      <td>0</td>\n",
              "      <td>0</td>\n",
              "    </tr>\n",
              "    <tr>\n",
              "      <th>2</th>\n",
              "      <td>1</td>\n",
              "      <td>0</td>\n",
              "      <td>0</td>\n",
              "      <td>0</td>\n",
              "      <td>0</td>\n",
              "      <td>0</td>\n",
              "    </tr>\n",
              "    <tr>\n",
              "      <th>3</th>\n",
              "      <td>1</td>\n",
              "      <td>0</td>\n",
              "      <td>0</td>\n",
              "      <td>0</td>\n",
              "      <td>0</td>\n",
              "      <td>0</td>\n",
              "    </tr>\n",
              "    <tr>\n",
              "      <th>4</th>\n",
              "      <td>1</td>\n",
              "      <td>0</td>\n",
              "      <td>0</td>\n",
              "      <td>0</td>\n",
              "      <td>0</td>\n",
              "      <td>0</td>\n",
              "    </tr>\n",
              "    <tr>\n",
              "      <th>...</th>\n",
              "      <td>...</td>\n",
              "      <td>...</td>\n",
              "      <td>...</td>\n",
              "      <td>...</td>\n",
              "      <td>...</td>\n",
              "      <td>...</td>\n",
              "    </tr>\n",
              "    <tr>\n",
              "      <th>1332</th>\n",
              "      <td>0</td>\n",
              "      <td>0</td>\n",
              "      <td>0</td>\n",
              "      <td>0</td>\n",
              "      <td>0</td>\n",
              "      <td>1</td>\n",
              "    </tr>\n",
              "    <tr>\n",
              "      <th>1333</th>\n",
              "      <td>0</td>\n",
              "      <td>0</td>\n",
              "      <td>0</td>\n",
              "      <td>0</td>\n",
              "      <td>0</td>\n",
              "      <td>1</td>\n",
              "    </tr>\n",
              "    <tr>\n",
              "      <th>1334</th>\n",
              "      <td>0</td>\n",
              "      <td>0</td>\n",
              "      <td>0</td>\n",
              "      <td>0</td>\n",
              "      <td>0</td>\n",
              "      <td>1</td>\n",
              "    </tr>\n",
              "    <tr>\n",
              "      <th>1335</th>\n",
              "      <td>0</td>\n",
              "      <td>0</td>\n",
              "      <td>0</td>\n",
              "      <td>0</td>\n",
              "      <td>0</td>\n",
              "      <td>1</td>\n",
              "    </tr>\n",
              "    <tr>\n",
              "      <th>1336</th>\n",
              "      <td>0</td>\n",
              "      <td>0</td>\n",
              "      <td>0</td>\n",
              "      <td>0</td>\n",
              "      <td>0</td>\n",
              "      <td>1</td>\n",
              "    </tr>\n",
              "  </tbody>\n",
              "</table>\n",
              "<p>1337 rows × 6 columns</p>\n",
              "</div>\n",
              "    <div class=\"colab-df-buttons\">\n",
              "\n",
              "  <div class=\"colab-df-container\">\n",
              "    <button class=\"colab-df-convert\" onclick=\"convertToInteractive('df-ef813ab9-91f6-4807-93ff-c911e55fde7e')\"\n",
              "            title=\"Convert this dataframe to an interactive table.\"\n",
              "            style=\"display:none;\">\n",
              "\n",
              "  <svg xmlns=\"http://www.w3.org/2000/svg\" height=\"24px\" viewBox=\"0 -960 960 960\">\n",
              "    <path d=\"M120-120v-720h720v720H120Zm60-500h600v-160H180v160Zm220 220h160v-160H400v160Zm0 220h160v-160H400v160ZM180-400h160v-160H180v160Zm440 0h160v-160H620v160ZM180-180h160v-160H180v160Zm440 0h160v-160H620v160Z\"/>\n",
              "  </svg>\n",
              "    </button>\n",
              "\n",
              "  <style>\n",
              "    .colab-df-container {\n",
              "      display:flex;\n",
              "      gap: 12px;\n",
              "    }\n",
              "\n",
              "    .colab-df-convert {\n",
              "      background-color: #E8F0FE;\n",
              "      border: none;\n",
              "      border-radius: 50%;\n",
              "      cursor: pointer;\n",
              "      display: none;\n",
              "      fill: #1967D2;\n",
              "      height: 32px;\n",
              "      padding: 0 0 0 0;\n",
              "      width: 32px;\n",
              "    }\n",
              "\n",
              "    .colab-df-convert:hover {\n",
              "      background-color: #E2EBFA;\n",
              "      box-shadow: 0px 1px 2px rgba(60, 64, 67, 0.3), 0px 1px 3px 1px rgba(60, 64, 67, 0.15);\n",
              "      fill: #174EA6;\n",
              "    }\n",
              "\n",
              "    .colab-df-buttons div {\n",
              "      margin-bottom: 4px;\n",
              "    }\n",
              "\n",
              "    [theme=dark] .colab-df-convert {\n",
              "      background-color: #3B4455;\n",
              "      fill: #D2E3FC;\n",
              "    }\n",
              "\n",
              "    [theme=dark] .colab-df-convert:hover {\n",
              "      background-color: #434B5C;\n",
              "      box-shadow: 0px 1px 3px 1px rgba(0, 0, 0, 0.15);\n",
              "      filter: drop-shadow(0px 1px 2px rgba(0, 0, 0, 0.3));\n",
              "      fill: #FFFFFF;\n",
              "    }\n",
              "  </style>\n",
              "\n",
              "    <script>\n",
              "      const buttonEl =\n",
              "        document.querySelector('#df-ef813ab9-91f6-4807-93ff-c911e55fde7e button.colab-df-convert');\n",
              "      buttonEl.style.display =\n",
              "        google.colab.kernel.accessAllowed ? 'block' : 'none';\n",
              "\n",
              "      async function convertToInteractive(key) {\n",
              "        const element = document.querySelector('#df-ef813ab9-91f6-4807-93ff-c911e55fde7e');\n",
              "        const dataTable =\n",
              "          await google.colab.kernel.invokeFunction('convertToInteractive',\n",
              "                                                    [key], {});\n",
              "        if (!dataTable) return;\n",
              "\n",
              "        const docLinkHtml = 'Like what you see? Visit the ' +\n",
              "          '<a target=\"_blank\" href=https://colab.research.google.com/notebooks/data_table.ipynb>data table notebook</a>'\n",
              "          + ' to learn more about interactive tables.';\n",
              "        element.innerHTML = '';\n",
              "        dataTable['output_type'] = 'display_data';\n",
              "        await google.colab.output.renderOutput(dataTable, element);\n",
              "        const docLink = document.createElement('div');\n",
              "        docLink.innerHTML = docLinkHtml;\n",
              "        element.appendChild(docLink);\n",
              "      }\n",
              "    </script>\n",
              "  </div>\n",
              "\n",
              "\n",
              "<div id=\"df-9d3a2ae0-8bc8-47f5-b564-1615ee74c042\">\n",
              "  <button class=\"colab-df-quickchart\" onclick=\"quickchart('df-9d3a2ae0-8bc8-47f5-b564-1615ee74c042')\"\n",
              "            title=\"Suggest charts\"\n",
              "            style=\"display:none;\">\n",
              "\n",
              "<svg xmlns=\"http://www.w3.org/2000/svg\" height=\"24px\"viewBox=\"0 0 24 24\"\n",
              "     width=\"24px\">\n",
              "    <g>\n",
              "        <path d=\"M19 3H5c-1.1 0-2 .9-2 2v14c0 1.1.9 2 2 2h14c1.1 0 2-.9 2-2V5c0-1.1-.9-2-2-2zM9 17H7v-7h2v7zm4 0h-2V7h2v10zm4 0h-2v-4h2v4z\"/>\n",
              "    </g>\n",
              "</svg>\n",
              "  </button>\n",
              "\n",
              "<style>\n",
              "  .colab-df-quickchart {\n",
              "      --bg-color: #E8F0FE;\n",
              "      --fill-color: #1967D2;\n",
              "      --hover-bg-color: #E2EBFA;\n",
              "      --hover-fill-color: #174EA6;\n",
              "      --disabled-fill-color: #AAA;\n",
              "      --disabled-bg-color: #DDD;\n",
              "  }\n",
              "\n",
              "  [theme=dark] .colab-df-quickchart {\n",
              "      --bg-color: #3B4455;\n",
              "      --fill-color: #D2E3FC;\n",
              "      --hover-bg-color: #434B5C;\n",
              "      --hover-fill-color: #FFFFFF;\n",
              "      --disabled-bg-color: #3B4455;\n",
              "      --disabled-fill-color: #666;\n",
              "  }\n",
              "\n",
              "  .colab-df-quickchart {\n",
              "    background-color: var(--bg-color);\n",
              "    border: none;\n",
              "    border-radius: 50%;\n",
              "    cursor: pointer;\n",
              "    display: none;\n",
              "    fill: var(--fill-color);\n",
              "    height: 32px;\n",
              "    padding: 0;\n",
              "    width: 32px;\n",
              "  }\n",
              "\n",
              "  .colab-df-quickchart:hover {\n",
              "    background-color: var(--hover-bg-color);\n",
              "    box-shadow: 0 1px 2px rgba(60, 64, 67, 0.3), 0 1px 3px 1px rgba(60, 64, 67, 0.15);\n",
              "    fill: var(--button-hover-fill-color);\n",
              "  }\n",
              "\n",
              "  .colab-df-quickchart-complete:disabled,\n",
              "  .colab-df-quickchart-complete:disabled:hover {\n",
              "    background-color: var(--disabled-bg-color);\n",
              "    fill: var(--disabled-fill-color);\n",
              "    box-shadow: none;\n",
              "  }\n",
              "\n",
              "  .colab-df-spinner {\n",
              "    border: 2px solid var(--fill-color);\n",
              "    border-color: transparent;\n",
              "    border-bottom-color: var(--fill-color);\n",
              "    animation:\n",
              "      spin 1s steps(1) infinite;\n",
              "  }\n",
              "\n",
              "  @keyframes spin {\n",
              "    0% {\n",
              "      border-color: transparent;\n",
              "      border-bottom-color: var(--fill-color);\n",
              "      border-left-color: var(--fill-color);\n",
              "    }\n",
              "    20% {\n",
              "      border-color: transparent;\n",
              "      border-left-color: var(--fill-color);\n",
              "      border-top-color: var(--fill-color);\n",
              "    }\n",
              "    30% {\n",
              "      border-color: transparent;\n",
              "      border-left-color: var(--fill-color);\n",
              "      border-top-color: var(--fill-color);\n",
              "      border-right-color: var(--fill-color);\n",
              "    }\n",
              "    40% {\n",
              "      border-color: transparent;\n",
              "      border-right-color: var(--fill-color);\n",
              "      border-top-color: var(--fill-color);\n",
              "    }\n",
              "    60% {\n",
              "      border-color: transparent;\n",
              "      border-right-color: var(--fill-color);\n",
              "    }\n",
              "    80% {\n",
              "      border-color: transparent;\n",
              "      border-right-color: var(--fill-color);\n",
              "      border-bottom-color: var(--fill-color);\n",
              "    }\n",
              "    90% {\n",
              "      border-color: transparent;\n",
              "      border-bottom-color: var(--fill-color);\n",
              "    }\n",
              "  }\n",
              "</style>\n",
              "\n",
              "  <script>\n",
              "    async function quickchart(key) {\n",
              "      const quickchartButtonEl =\n",
              "        document.querySelector('#' + key + ' button');\n",
              "      quickchartButtonEl.disabled = true;  // To prevent multiple clicks.\n",
              "      quickchartButtonEl.classList.add('colab-df-spinner');\n",
              "      try {\n",
              "        const charts = await google.colab.kernel.invokeFunction(\n",
              "            'suggestCharts', [key], {});\n",
              "      } catch (error) {\n",
              "        console.error('Error during call to suggestCharts:', error);\n",
              "      }\n",
              "      quickchartButtonEl.classList.remove('colab-df-spinner');\n",
              "      quickchartButtonEl.classList.add('colab-df-quickchart-complete');\n",
              "    }\n",
              "    (() => {\n",
              "      let quickchartButtonEl =\n",
              "        document.querySelector('#df-9d3a2ae0-8bc8-47f5-b564-1615ee74c042 button');\n",
              "      quickchartButtonEl.style.display =\n",
              "        google.colab.kernel.accessAllowed ? 'block' : 'none';\n",
              "    })();\n",
              "  </script>\n",
              "</div>\n",
              "\n",
              "  <div id=\"id_e166d51c-a529-4cbc-9beb-a231a3b64991\">\n",
              "    <style>\n",
              "      .colab-df-generate {\n",
              "        background-color: #E8F0FE;\n",
              "        border: none;\n",
              "        border-radius: 50%;\n",
              "        cursor: pointer;\n",
              "        display: none;\n",
              "        fill: #1967D2;\n",
              "        height: 32px;\n",
              "        padding: 0 0 0 0;\n",
              "        width: 32px;\n",
              "      }\n",
              "\n",
              "      .colab-df-generate:hover {\n",
              "        background-color: #E2EBFA;\n",
              "        box-shadow: 0px 1px 2px rgba(60, 64, 67, 0.3), 0px 1px 3px 1px rgba(60, 64, 67, 0.15);\n",
              "        fill: #174EA6;\n",
              "      }\n",
              "\n",
              "      [theme=dark] .colab-df-generate {\n",
              "        background-color: #3B4455;\n",
              "        fill: #D2E3FC;\n",
              "      }\n",
              "\n",
              "      [theme=dark] .colab-df-generate:hover {\n",
              "        background-color: #434B5C;\n",
              "        box-shadow: 0px 1px 3px 1px rgba(0, 0, 0, 0.15);\n",
              "        filter: drop-shadow(0px 1px 2px rgba(0, 0, 0, 0.3));\n",
              "        fill: #FFFFFF;\n",
              "      }\n",
              "    </style>\n",
              "    <button class=\"colab-df-generate\" onclick=\"generateWithVariable('etiketler')\"\n",
              "            title=\"Generate code using this dataframe.\"\n",
              "            style=\"display:none;\">\n",
              "\n",
              "  <svg xmlns=\"http://www.w3.org/2000/svg\" height=\"24px\"viewBox=\"0 0 24 24\"\n",
              "       width=\"24px\">\n",
              "    <path d=\"M7,19H8.4L18.45,9,17,7.55,7,17.6ZM5,21V16.75L18.45,3.32a2,2,0,0,1,2.83,0l1.4,1.43a1.91,1.91,0,0,1,.58,1.4,1.91,1.91,0,0,1-.58,1.4L9.25,21ZM18.45,9,17,7.55Zm-12,3A5.31,5.31,0,0,0,4.9,8.1,5.31,5.31,0,0,0,1,6.5,5.31,5.31,0,0,0,4.9,4.9,5.31,5.31,0,0,0,6.5,1,5.31,5.31,0,0,0,8.1,4.9,5.31,5.31,0,0,0,12,6.5,5.46,5.46,0,0,0,6.5,12Z\"/>\n",
              "  </svg>\n",
              "    </button>\n",
              "    <script>\n",
              "      (() => {\n",
              "      const buttonEl =\n",
              "        document.querySelector('#id_e166d51c-a529-4cbc-9beb-a231a3b64991 button.colab-df-generate');\n",
              "      buttonEl.style.display =\n",
              "        google.colab.kernel.accessAllowed ? 'block' : 'none';\n",
              "\n",
              "      buttonEl.onclick = () => {\n",
              "        google.colab.notebook.generateWithVariable('etiketler');\n",
              "      }\n",
              "      })();\n",
              "    </script>\n",
              "  </div>\n",
              "\n",
              "    </div>\n",
              "  </div>\n"
            ],
            "text/plain": [
              "      Sinif_A  Sinif_B  Sinif_E  Sinif_H  Sinif_M  Sinif_R\n",
              "0           1        0        0        0        0        0\n",
              "1           1        0        0        0        0        0\n",
              "2           1        0        0        0        0        0\n",
              "3           1        0        0        0        0        0\n",
              "4           1        0        0        0        0        0\n",
              "...       ...      ...      ...      ...      ...      ...\n",
              "1332        0        0        0        0        0        1\n",
              "1333        0        0        0        0        0        1\n",
              "1334        0        0        0        0        0        1\n",
              "1335        0        0        0        0        0        1\n",
              "1336        0        0        0        0        0        1\n",
              "\n",
              "[1337 rows x 6 columns]"
            ]
          },
          "execution_count": 9,
          "metadata": {},
          "output_type": "execute_result"
        }
      ],
      "source": [
        "etiketler = pd.read_excel ('/content/drive/MyDrive/Merhaba.xlsx')\n",
        "etiketler"
      ]
    },
    {
      "cell_type": "code",
      "execution_count": null,
      "metadata": {
        "id": "lhnpJP0wACZp"
      },
      "outputs": [],
      "source": []
    },
    {
      "cell_type": "code",
      "execution_count": null,
      "metadata": {
        "colab": {
          "base_uri": "https://localhost:8080/"
        },
        "id": "32ERJrNk6ziO",
        "outputId": "e363f51b-db23-4851-c38f-31a522b3eaf2"
      },
      "outputs": [
        {
          "name": "stdout",
          "output_type": "stream",
          "text": [
            "Eğitim veri seti boyutu: (1002, 400, 400)\n",
            "Validasyon veri seti boyutu: (201, 400, 400)\n",
            "Test veri seti boyutu: (134, 400, 400)\n"
          ]
        }
      ],
      "source": [
        "from sklearn.model_selection import train_test_split\n",
        "\n",
        "# Veri setini eğitim ve validasyon/test setleri olarak ayırma\n",
        "# X: görüntüler, y: etiketler\n",
        "X_egitim, X_validasyon_test, y_egitim, y_validasyon_test = train_test_split(images, etiketler, test_size=0.25, random_state=2021)\n",
        "\n",
        "# Validasyon/test setini validasyon ve test setlerine ayırma\n",
        "X_validasyon, X_test, y_validasyon, y_test = train_test_split(X_validasyon_test, y_validasyon_test, test_size=0.4, random_state=2021)\n",
        "\n",
        "# Her bir veri setinin boyutunu kontrol etme\n",
        "print(\"Eğitim veri seti boyutu:\", X_egitim.shape)\n",
        "print(\"Validasyon veri seti boyutu:\", X_validasyon.shape)\n",
        "print(\"Test veri seti boyutu:\", X_test.shape)\n"
      ]
    },
    {
      "cell_type": "code",
      "execution_count": null,
      "metadata": {
        "id": "8K4CfYqA_0Q-"
      },
      "outputs": [],
      "source": [
        "from keras.models import Sequential\n",
        "from keras.layers import Conv2D, MaxPooling2D, Flatten, Dense, Dropout\n",
        "from keras import metrics\n"
      ]
    },
    {
      "cell_type": "code",
      "execution_count": null,
      "metadata": {
        "id": "LBZyitsxHMYW"
      },
      "outputs": [],
      "source": []
    },
    {
      "cell_type": "code",
      "execution_count": null,
      "metadata": {
        "id": "AgXPxxkf68HQ"
      },
      "outputs": [],
      "source": [
        "num_classes = 6\n",
        "\n",
        "\n",
        "siniragi  = Sequential([Conv2D(32,(3,3),activation = 'relu', input_shape =(400,400,1)),\n",
        "                        MaxPooling2D((2,2)),\n",
        "                        Conv2D(64,(3,3),activation = 'relu'),\n",
        "                        MaxPooling2D((2,2)),\n",
        "                        Conv2D(128, (3,3),activation = 'relu'),\n",
        "                        MaxPooling2D((2,2)),\n",
        "                        Dropout(0.2),\n",
        "                        Flatten(),\n",
        "                        Dense(128,activation = 'relu'),\n",
        "                        Dense(29,activation ='softmax')\n",
        "                        ])\n",
        "\n",
        "\n",
        "siniragi.compile(loss='categorical_crossentropy', optimizer='adam', metrics=[metrics.Precision(), metrics.Recall(), 'categorical_accuracy', 'accuracy'])\n"
      ]
    },
    {
      "cell_type": "code",
      "execution_count": null,
      "metadata": {
        "id": "cjBinMcaEPA1"
      },
      "outputs": [],
      "source": []
    },
    {
      "cell_type": "code",
      "execution_count": null,
      "metadata": {
        "id": "OH0ojg4WGqRa"
      },
      "outputs": [],
      "source": []
    },
    {
      "cell_type": "code",
      "execution_count": null,
      "metadata": {
        "colab": {
          "base_uri": "https://localhost:8080/"
        },
        "id": "EB3RJq4LGqNu",
        "outputId": "be07e546-15a2-4efc-d8f3-9a3e06f9b36b"
      },
      "outputs": [
        {
          "name": "stdout",
          "output_type": "stream",
          "text": [
            "Epoch 1/10\n",
            "126/126 [==============================] - 21s 100ms/step - loss: 0.5479 - precision: 0.9596 - recall: 0.7824 - categorical_accuracy: 0.8533 - accuracy: 0.8533 - val_loss: 0.1148 - val_precision: 0.9851 - val_recall: 0.9851 - val_categorical_accuracy: 0.9851 - val_accuracy: 0.9851\n",
            "Epoch 2/10\n",
            "126/126 [==============================] - 10s 82ms/step - loss: 0.0479 - precision: 0.9920 - recall: 0.9900 - categorical_accuracy: 0.9910 - accuracy: 0.9910 - val_loss: 0.0355 - val_precision: 0.9950 - val_recall: 0.9950 - val_categorical_accuracy: 0.9950 - val_accuracy: 0.9950\n",
            "Epoch 3/10\n",
            "126/126 [==============================] - 10s 80ms/step - loss: 0.0073 - precision: 0.9970 - recall: 0.9970 - categorical_accuracy: 0.9970 - accuracy: 0.9970 - val_loss: 0.0952 - val_precision: 0.9950 - val_recall: 0.9950 - val_categorical_accuracy: 0.9950 - val_accuracy: 0.9950\n",
            "Epoch 4/10\n",
            "126/126 [==============================] - 10s 81ms/step - loss: 0.0097 - precision: 0.9980 - recall: 0.9980 - categorical_accuracy: 0.9980 - accuracy: 0.9980 - val_loss: 0.0400 - val_precision: 0.9950 - val_recall: 0.9950 - val_categorical_accuracy: 0.9950 - val_accuracy: 0.9950\n",
            "Epoch 5/10\n",
            "126/126 [==============================] - 10s 80ms/step - loss: 0.0241 - precision: 0.9940 - recall: 0.9930 - categorical_accuracy: 0.9940 - accuracy: 0.9940 - val_loss: 0.1270 - val_precision: 0.9801 - val_recall: 0.9801 - val_categorical_accuracy: 0.9801 - val_accuracy: 0.9801\n",
            "Epoch 6/10\n",
            "126/126 [==============================] - 10s 79ms/step - loss: 0.0012 - precision: 1.0000 - recall: 1.0000 - categorical_accuracy: 1.0000 - accuracy: 1.0000 - val_loss: 0.1315 - val_precision: 0.9950 - val_recall: 0.9950 - val_categorical_accuracy: 0.9950 - val_accuracy: 0.9950\n",
            "Epoch 7/10\n",
            "126/126 [==============================] - 10s 79ms/step - loss: 7.4312e-06 - precision: 1.0000 - recall: 1.0000 - categorical_accuracy: 1.0000 - accuracy: 1.0000 - val_loss: 0.1338 - val_precision: 0.9950 - val_recall: 0.9950 - val_categorical_accuracy: 0.9950 - val_accuracy: 0.9950\n",
            "Epoch 8/10\n",
            "126/126 [==============================] - 10s 79ms/step - loss: 3.4094e-06 - precision: 1.0000 - recall: 1.0000 - categorical_accuracy: 1.0000 - accuracy: 1.0000 - val_loss: 0.1349 - val_precision: 0.9950 - val_recall: 0.9950 - val_categorical_accuracy: 0.9950 - val_accuracy: 0.9950\n",
            "Epoch 9/10\n",
            "126/126 [==============================] - 10s 79ms/step - loss: 2.5621e-06 - precision: 1.0000 - recall: 1.0000 - categorical_accuracy: 1.0000 - accuracy: 1.0000 - val_loss: 0.1358 - val_precision: 0.9950 - val_recall: 0.9950 - val_categorical_accuracy: 0.9950 - val_accuracy: 0.9950\n",
            "Epoch 10/10\n",
            "126/126 [==============================] - 10s 79ms/step - loss: 2.1236e-06 - precision: 1.0000 - recall: 1.0000 - categorical_accuracy: 1.0000 - accuracy: 1.0000 - val_loss: 0.1368 - val_precision: 0.9950 - val_recall: 0.9950 - val_categorical_accuracy: 0.9950 - val_accuracy: 0.9950\n"
          ]
        }
      ],
      "source": [
        "from tensorflow.keras.callbacks import ModelCheckpoint\n",
        "\n",
        "# Model ağırlıklarını kaydetmek için kontrol noktası oluşturma\n",
        "checkpoint_path = \"/content/drive/MyDrive/Agilirliklar/siniragi_agirliklari_{epoch:02d}.h5\"\n",
        "checkpoint = ModelCheckpoint(checkpoint_path, save_weights_only=True)\n",
        "\n",
        "# Modeli eğitmek ve kontrol noktası geri çağırımını kullanmak\n",
        "history = siniragi.fit(\n",
        "    X_egitim,\n",
        "    y_egitim,\n",
        "    epochs=10,\n",
        "    batch_size=8,\n",
        "    validation_data=(X_validasyon, y_validasyon),\n",
        "    callbacks=[checkpoint]\n",
        ")\n"
      ]
    },
    {
      "cell_type": "code",
      "execution_count": null,
      "metadata": {
        "colab": {
          "base_uri": "https://localhost:8080/"
        },
        "id": "2fFFEuXj4s09",
        "outputId": "9c6e137a-37ea-48eb-9533-44ddd57439d3"
      },
      "outputs": [
        {
          "name": "stdout",
          "output_type": "stream",
          "text": [
            "dict_keys(['loss', 'precision_1', 'recall_1', 'categorical_accuracy', 'accuracy', 'val_loss', 'val_precision_1', 'val_recall_1', 'val_categorical_accuracy', 'val_accuracy'])\n"
          ]
        }
      ],
      "source": [
        "print(history.history.keys())\n"
      ]
    },
    {
      "cell_type": "markdown",
      "metadata": {
        "id": "W8lnPNgnsehz"
      },
      "source": []
    },
    {
      "cell_type": "code",
      "execution_count": null,
      "metadata": {
        "colab": {
          "base_uri": "https://localhost:8080/",
          "height": 585
        },
        "id": "Lx50w30wHAXa",
        "outputId": "4e4f0635-c09c-41d7-f6fe-e4f3c6b1258d"
      },
      "outputs": [
        {
          "data": {
            "image/png": "[encoded data removed]",
            "text/plain": [
              "<Figure size 1200x800 with 4 Axes>"
            ]
          },
          "metadata": {},
          "output_type": "display_data"
        }
      ],
      "source": [
        "import matplotlib.pyplot as plt\n",
        "import numpy as np\n",
        "# Get the training and validation metrics\n",
        "train_accuracy = history.history['accuracy']\n",
        "train_loss = history.history['loss']\n",
        "train_precision = history.history['precision_1']\n",
        "train_recall = history.history['recall_1']\n",
        "\n",
        "val_accuracy = history.history['val_accuracy']\n",
        "val_loss = history.history['val_loss']\n",
        "val_precision = history.history['val_precision_1']\n",
        "val_recall = history.history['val_recall_1']\n",
        "\n",
        "# Plot the metrics\n",
        "epochs = range(1, len(train_accuracy) + 1)\n",
        "\n",
        "plt.figure(figsize=(12, 8))\n",
        "\n",
        "# Accuracy plot\n",
        "plt.subplot(2, 2, 1)\n",
        "plt.plot(epochs, train_accuracy, 'b', label='Training Accuracy')\n",
        "plt.plot(epochs, val_accuracy, 'r', label='Validation Accuracy')\n",
        "plt.title('Training and Validation Accuracy')\n",
        "plt.xlabel('Epochs')\n",
        "plt.ylabel('Accuracy')\n",
        "plt.legend()\n",
        "plt.xticks(epochs)  # Set the x-axis ticks explicitly\n",
        "\n",
        "# Loss plot\n",
        "plt.subplot(2, 2, 2)\n",
        "plt.plot(epochs, train_loss, 'b', label='Training Loss')\n",
        "plt.plot(epochs, val_loss, 'r', label='Validation Loss')\n",
        "plt.title('Training and Validation Loss')\n",
        "plt.xlabel('Epochs')\n",
        "plt.ylabel('Loss')\n",
        "plt.legend()\n",
        "plt.xticks(epochs)  # Set the x-axis ticks explicitly\n",
        "\n",
        "# Precision plot\n",
        "plt.subplot(2, 2, 3)\n",
        "plt.plot(epochs, train_precision, 'b', label='Training Precision')\n",
        "plt.plot(epochs, val_precision, 'r', label='Validation Precision')\n",
        "plt.title('Training and Validation Precision')\n",
        "plt.xlabel('Epochs')\n",
        "plt.ylabel('Precision')\n",
        "plt.legend()\n",
        "plt.xticks(epochs)  # Set the x-axis ticks explicitly\n",
        "\n",
        "# Recall plot\n",
        "plt.subplot(2, 2, 4)\n",
        "plt.plot(epochs, train_recall, 'b', label='Training Recall')\n",
        "plt.plot(epochs, val_recall, 'r', label='Validation Recall')\n",
        "plt.title('Training and Validation Recall')\n",
        "plt.xlabel('Epochs')\n",
        "plt.ylabel('Recall')\n",
        "plt.legend()\n",
        "plt.xticks(epochs)  # Set the x-axis ticks explicitly\n",
        "plt.yticks(np.arange(0.1, 1.0, 0.1))\n",
        "\n",
        "plt.tight_layout()\n",
        "plt.show()\n"
      ]
    },
    {
      "cell_type": "code",
      "execution_count": null,
      "metadata": {
        "id": "sE0n6Wvbuz-v"
      },
      "outputs": [],
      "source": []
    },
    {
      "cell_type": "code",
      "execution_count": null,
      "metadata": {
        "id": "Y_qjWCSJuz8l"
      },
      "outputs": [],
      "source": []
    },
    {
      "cell_type": "code",
      "execution_count": null,
      "metadata": {
        "id": "ZFhD8JYW6A-7"
      },
      "outputs": [],
      "source": [
        "from keras.models import load_model\n",
        "from keras.models import Sequential\n",
        "from keras.layers import Conv2D, MaxPooling2D, Flatten, Dense, Dropout\n",
        "from keras import metrics\n",
        "\n",
        "# Load the model architecture\n",
        "siniragi = Sequential([Conv2D(32,(3,3),activation='relu', input_shape=(400,400,1)),\n",
        "                       MaxPooling2D((2,2)),\n",
        "                       Conv2D(64,(3,3),activation='relu'),\n",
        "                       MaxPooling2D((2,2)),\n",
        "                       Conv2D(128, (3,3),activation='relu'),\n",
        "                       MaxPooling2D((2,2)),\n",
        "                       Flatten(),\n",
        "                       Dense(128,activation='relu'),\n",
        "                       Dense(6,activation='softmax')\n",
        "                       ])\n",
        "\n",
        "# Compile the model (you can skip this if you are loading an already compiled model)\n",
        "siniragi.compile(loss='categorical_crossentropy', optimizer='adam', metrics=[metrics.Precision(), metrics.Recall(), 'categorical_accuracy', 'accuracy'])\n",
        "\n",
        "# Load the trained weights\n",
        "siniragi.load_weights('/content/drive/MyDrive/Agilirliklar/siniragi_agirliklari_02.h5')\n"
      ]
    },
    {
      "cell_type": "code",
      "execution_count": null,
      "metadata": {
        "colab": {
          "base_uri": "https://localhost:8080/"
        },
        "id": "yCk8EzU71czm",
        "outputId": "8030e3b6-48af-4330-de63-fea7782cd1f0"
      },
      "outputs": [
        {
          "name": "stdout",
          "output_type": "stream",
          "text": [
            "Image shape: (1, 400, 400)\n",
            "1/1 [==============================] - 0s 23ms/step\n",
            "Predicted class: B\n",
            "Predicted class index: 1\n",
            "Raw prediction probabilities:\n",
            "[[0.20159557 0.4782236  0.0055274  0.30839163 0.00477411 0.00148778]]\n"
          ]
        }
      ],
      "source": [
        "from keras.preprocessing import image\n",
        "import numpy as np\n",
        "\n",
        "# Define the path to the image\n",
        "image_path = '/content/WIN_20240515_21_13_51_Pro.jpg'\n",
        "\n",
        "# Load the image and preprocess it\n",
        "img = image.load_img(image_path)\n",
        "img = opencv.imread(image_path) # Load as grayscale and resize to match model input shape\n",
        "img = opencv.cvtColor(img,opencv.COLOR_RGB2GRAY)\n",
        "\n",
        "img = opencv.resize(img, (400, 400))\n",
        "# img_array = image.img_to_array(img)\n",
        "img_array = np.asarray(img)\n",
        "\n",
        "img_array = img /255.0  # Normalize pixel values (assuming your model expects normalized inputs)\n",
        "\n",
        "# Reshape and add a batch dimension\n",
        "img_array = np.expand_dims(img_array, axis=0)\n",
        "\n",
        "# Ensure that the image array has the correct shape\n",
        "print(f\"Image shape: {img_array.shape}\")\n",
        "\n",
        "# Make a prediction using the loaded model\n",
        "prediction = siniragi.predict(img_array)\n",
        "\n",
        "# The 'prediction' variable now contains the model's output for the input image\n",
        "# If your model outputs probabilities (e.g., using softmax activation), you can interpret the results\n",
        "predicted_class = np.argmax(prediction)  # Get the index of the class with the highest probability\n",
        "\n",
        "\n",
        "predicted_class_index = np.argmax(prediction)\n",
        "\n",
        "# Define class labels (you can customize these based on your problem)\n",
        "class_labels = [\n",
        "'A','B','E','H','M','R'\n",
        "]\n",
        "\n",
        "# Get the predicted class label\n",
        "predicted_class_label = class_labels[predicted_class_index]\n",
        "\n",
        "print(f\"Predicted class: {predicted_class_label}\")\n",
        "print(f\"Predicted class index: {predicted_class}\")\n",
        "# Optionally, you can also print the raw prediction probabilities\n",
        "print(\"Raw prediction probabilities:\")\n",
        "print(prediction)\n"
      ]
    },
    {
      "cell_type": "code",
      "execution_count": null,
      "metadata": {
        "id": "HAvfrvqb_9D_"
      },
      "outputs": [],
      "source": []
    },
    {
      "cell_type": "code",
      "execution_count": null,
      "metadata": {
        "colab": {
          "base_uri": "https://localhost:8080/"
        },
        "id": "y7BUOLuLuz6c",
        "outputId": "9f0b8161-b52b-4bc7-d2ed-7e9bb1dd734a"
      },
      "outputs": [
        {
          "name": "stdout",
          "output_type": "stream",
          "text": [
            "11/11 [==============================] - 0s 38ms/step - loss: 0.1364 - precision: 0.9754 - recall: 0.9665 - categorical_accuracy: 0.9665 - accuracy: 0.9665\n",
            "loss: 0.13643687963485718\n",
            "precision: 0.9753845930099487\n",
            "recall: 0.9664633870124817\n",
            "categorical_accuracy: 0.9664633870124817\n",
            "accuracy: 0.9664633870124817\n"
          ]
        }
      ],
      "source": [
        "# Assuming your X_test and y_test are already defined\n",
        "# Evaluate the model on test data\n",
        "evaluation = siniragi.evaluate(X_test, y_test)\n",
        "\n",
        "# Extract the metric names and their corresponding values from the evaluation\n",
        "metric_names = siniragi.metrics_names\n",
        "metric_values = evaluation\n",
        "\n",
        "# Print the metrics\n",
        "for metric, value in zip(metric_names, metric_values):\n",
        "    print(f'{metric}: {value}')\n"
      ]
    },
    {
      "cell_type": "code",
      "execution_count": null,
      "metadata": {
        "id": "ChkzM9KHuz4U"
      },
      "outputs": [],
      "source": []
    },
    {
      "cell_type": "code",
      "execution_count": null,
      "metadata": {
        "colab": {
          "base_uri": "https://localhost:8080/"
        },
        "id": "hTvSzd69uz2A",
        "outputId": "55c8c1a1-9b4d-4cc3-e70e-9028abbdd248"
      },
      "outputs": [
        {
          "name": "stdout",
          "output_type": "stream",
          "text": [
            "1/1 [==============================] - 0s 112ms/step\n",
            "Predicted class index: 13\n",
            "Raw prediction probabilities:\n",
            "[[5.3302641e-04 6.1959466e-03 1.5741780e-06 1.2976355e-04 3.0173545e-04\n",
            "  2.2794820e-05 1.8375113e-05 1.1193616e-02 9.4082907e-06 2.2595774e-03\n",
            "  2.8961338e-07 4.4775079e-04 3.1986368e-05 8.7707257e-01 4.8513862e-04\n",
            "  3.1149189e-05 2.4081444e-04 2.8287941e-05 2.7240891e-04 1.7315886e-03\n",
            "  5.6144260e-03 5.7573987e-05 1.1032277e-05 1.4538399e-06 1.1099846e-02\n",
            "  7.3142618e-02 3.5963982e-04 8.6548310e-03 5.0717510e-05]]\n"
          ]
        }
      ],
      "source": [
        "import numpy as np\n",
        "\n",
        "# Assuming siniragi model and X_test are already loaded and defined\n",
        "\n",
        "# Select a specific example from X_test (e.g., X_test[55])\n",
        "# example_index = 78\n",
        "# example = X_test[example_index]\n",
        "img = '/content/doddnloadd.png'\n",
        "example = opencv.imread(img)\n",
        "example = opencv.cvtColor(example,opencv.COLOR_RGB2GRAY)\n",
        "example  = np.asarray(example)\n",
        "# Reshape the example to match the input shape expected by the model\n",
        "example = np.expand_dims(example, axis=0)  # Add a batch dimension\n",
        "\n",
        "# Make a prediction using the loaded model\n",
        "prediction = siniragi.predict(example)\n",
        "\n",
        "# The 'prediction' variable now contains the model's output for the given example\n",
        "# If your model outputs probabilities (e.g., using softmax activation), you can interpret the results\n",
        "predicted_class = np.argmax(prediction)  # Get the index of the class with the highest probability\n",
        "\n",
        "print(f\"Predicted class index: {predicted_class}\")\n",
        "# Optionally, you can also print the raw prediction probabilities\n",
        "print(\"Raw prediction probabilities:\")\n",
        "print(prediction)\n"
      ]
    },
    {
      "cell_type": "code",
      "execution_count": null,
      "metadata": {
        "colab": {
          "base_uri": "https://localhost:8080/",
          "height": 141
        },
        "id": "-MeXk_xgvM1e",
        "outputId": "38c77da5-204c-4acb-ed68-e83af4ae935e"
      },
      "outputs": [
        {
          "ename": "NameError",
          "evalue": "name 'X_test' is not defined",
          "output_type": "error",
          "traceback": [
            "\u001b[0;31m---------------------------------------------------------------------------\u001b[0m",
            "\u001b[0;31mNameError\u001b[0m                                 Traceback (most recent call last)",
            "\u001b[0;32m<ipython-input-19-a1ca1182e532>\u001b[0m in \u001b[0;36m<cell line: 1>\u001b[0;34m()\u001b[0m\n\u001b[0;32m----> 1\u001b[0;31m \u001b[0mX_test\u001b[0m\u001b[0;34m[\u001b[0m\u001b[0;36m53\u001b[0m\u001b[0;34m]\u001b[0m\u001b[0;34m\u001b[0m\u001b[0;34m\u001b[0m\u001b[0m\n\u001b[0m",
            "\u001b[0;31mNameError\u001b[0m: name 'X_test' is not defined"
          ]
        }
      ],
      "source": [
        "X_test[53]\n"
      ]
    },
    {
      "cell_type": "code",
      "execution_count": null,
      "metadata": {
        "colab": {
          "base_uri": "https://localhost:8080/"
        },
        "id": "WYuv-OKCuz0E",
        "outputId": "a178e837-53dc-4b58-fe99-c73b4cbea4be"
      },
      "outputs": [
        {
          "name": "stdout",
          "output_type": "stream",
          "text": [
            "Predicted class: H\n"
          ]
        }
      ],
      "source": [
        "predicted_class_index = np.argmax(prediction)\n",
        "\n",
        "# Define class labels (you can customize these based on your problem)\n",
        "class_labels = [\n",
        "    'A', 'B', 'C', 'Ç', 'Ş', 'D', 'E', 'F',\n",
        "    'G', 'H', 'İ', 'J', 'K', 'L', 'M', 'N', 'O',\n",
        "    'Ü', 'I', 'O', 'P', 'R', 'S', 'T', 'U',\n",
        "    'V', 'Y', 'Ğ', 'Z'\n",
        "]\n",
        "\n",
        "# Get the predicted class label\n",
        "predicted_class_label = class_labels[predicted_class_index]\n",
        "\n",
        "print(f\"Predicted class: {predicted_class_label}\")"
      ]
    },
    {
      "cell_type": "code",
      "execution_count": null,
      "metadata": {
        "id": "FjHfGBx2uzxs"
      },
      "outputs": [],
      "source": []
    },
    {
      "cell_type": "code",
      "execution_count": null,
      "metadata": {
        "id": "JvUG7OQyuzvU"
      },
      "outputs": [],
      "source": []
    },
    {
      "cell_type": "markdown",
      "metadata": {
        "id": "VEm0UqANG67I"
      },
      "source": []
    },
    {
      "cell_type": "code",
      "execution_count": null,
      "metadata": {
        "id": "Nd4jvpVHuJ_Z"
      },
      "outputs": [],
      "source": []
    },
    {
      "cell_type": "code",
      "execution_count": null,
      "metadata": {
        "id": "9C_vAwTQFqvH"
      },
      "outputs": [],
      "source": [
        "# Load the model architecture\n",
        "from tensorflow.keras.models import Sequential\n",
        "from tensorflow.keras.layers import Conv2D, MaxPooling2D, Flatten, Dense\n",
        "\n",
        "num_classes = 29\n",
        "\n",
        "siniragi = Sequential([\n",
        "    Conv2D(32, (3, 3), activation='relu', input_shape=(400, 400, 1)),\n",
        "    MaxPooling2D((2, 2)),\n",
        "    Conv2D(64, (3, 3), activation='relu'),\n",
        "    MaxPooling2D((2, 2)),\n",
        "    Conv2D(128, (3, 3), activation='relu'),\n",
        "    MaxPooling2D((2, 2)),\n",
        "    Flatten(),\n",
        "    Dense(128, activation='relu'),\n",
        "    Dense(num_classes, activation='softmax')\n",
        "])\n",
        "\n",
        "# Load the saved weights\n",
        "siniragi.load_weights('/content/drive/MyDrive/Agilirliklar/siniragi_agirliklari_03.h5')\n",
        "\n",
        "# Now the model `siniragi` is ready to use for prediction or further training\n"
      ]
    },
    {
      "cell_type": "code",
      "execution_count": null,
      "metadata": {
        "colab": {
          "base_uri": "https://localhost:8080/",
          "height": 440
        },
        "id": "9Tk55Mq_VZfv",
        "outputId": "2f203808-3c2b-4c1c-8106-7a70dd298dfe"
      },
      "outputs": [
        {
          "data": {
            "text/html": [
              "<style>\n",
              "      .ndarray_repr .ndarray_raw_data {\n",
              "        display: none;\n",
              "      }\n",
              "      .ndarray_repr.show_array .ndarray_raw_data {\n",
              "        display: block;\n",
              "      }\n",
              "      .ndarray_repr.show_array .ndarray_image_preview {\n",
              "        display: none;\n",
              "      }\n",
              "      </style>\n",
              "      <div id=\"id-7c6d46e5-fb08-49a7-a7ff-af152feee581\" class=\"ndarray_repr\"><pre>ndarray (400, 400) <button style=\"padding: 0 2px;\">show data</button></pre><img src=\"data:image/png;base64,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\" class=\"ndarray_image_preview\" /><pre class=\"ndarray_raw_data\">array([[255, 254, 255, ...,   0,   0,   0],\n",
              "       [253, 255, 252, ...,   0,   0,   0],\n",
              "       [255, 254, 255, ...,   0,   0,   0],\n",
              "       ...,\n",
              "       [  0,   0,   0, ...,   0,   0,   0],\n",
              "       [  0,   0,   0, ...,   0,   0,   0],\n",
              "       [  0,   0,   0, ...,   0,   0,   0]], dtype=uint8)</pre></div><script>\n",
              "      (() => {\n",
              "      const titles = ['show data', 'hide data'];\n",
              "      let index = 0\n",
              "      document.querySelector('#id-7c6d46e5-fb08-49a7-a7ff-af152feee581 button').onclick = (e) => {\n",
              "        document.querySelector('#id-7c6d46e5-fb08-49a7-a7ff-af152feee581').classList.toggle('show_array');\n",
              "        index = (++index) % 2;\n",
              "        document.querySelector('#id-7c6d46e5-fb08-49a7-a7ff-af152feee581 button').textContent = titles[index];\n",
              "        e.preventDefault();\n",
              "        e.stopPropagation();\n",
              "      }\n",
              "      })();\n",
              "    </script>"
            ],
            "text/plain": [
              "array([[255, 254, 255, ...,   0,   0,   0],\n",
              "       [253, 255, 252, ...,   0,   0,   0],\n",
              "       [255, 254, 255, ...,   0,   0,   0],\n",
              "       ...,\n",
              "       [  0,   0,   0, ...,   0,   0,   0],\n",
              "       [  0,   0,   0, ...,   0,   0,   0],\n",
              "       [  0,   0,   0, ...,   0,   0,   0]], dtype=uint8)"
            ]
          },
          "execution_count": 27,
          "metadata": {},
          "output_type": "execute_result"
        }
      ],
      "source": [
        "X_test[64]"
      ]
    },
    {
      "cell_type": "code",
      "execution_count": null,
      "metadata": {
        "colab": {
          "base_uri": "https://localhost:8080/"
        },
        "id": "0SXHIR7ylwRB",
        "outputId": "7eadc492-31e3-414f-8902-808b0afdb6cd"
      },
      "outputs": [
        {
          "name": "stdout",
          "output_type": "stream",
          "text": [
            "1/1 [==============================] - 0s 18ms/step\n"
          ]
        },
        {
          "data": {
            "text/plain": [
              "array([[9.9999952e-01, 2.3766666e-12, 3.1243839e-09, 2.2068338e-11,\n",
              "        9.6140781e-16, 7.1664029e-11, 2.7304246e-11, 1.5046178e-14,\n",
              "        1.3844753e-14, 2.3158220e-12, 7.9302648e-10, 1.9547522e-10,\n",
              "        3.5556214e-18, 5.1115484e-10, 2.0155142e-14, 4.7368364e-12,\n",
              "        5.5191133e-11, 7.5916617e-13, 6.1704011e-09, 2.4953160e-14,\n",
              "        4.1803816e-07, 4.7802617e-10, 3.7148260e-11, 1.4394139e-12,\n",
              "        4.6283697e-12, 4.6490781e-10, 2.1850353e-13, 8.5473338e-12,\n",
              "        2.8904561e-11]], dtype=float32)"
            ]
          },
          "execution_count": 28,
          "metadata": {},
          "output_type": "execute_result"
        }
      ],
      "source": [
        "import numpy as np\n",
        "from tensorflow.keras.preprocessing import image\n",
        "\n",
        "# Load the image file\n",
        "# img_path = X_test[66]\n",
        "\n",
        "img  = X_test[64]\n",
        "# img = image.load_img(img_path, target_size=(400, 400), color_mode='grayscale')\n",
        "\n",
        "# Convert the image to a numpy array and normalize it\n",
        "img_array = image.img_to_array(img)\n",
        "img_array = np.expand_dims(img_array, axis=0)\n",
        "\n",
        "\n",
        "# Use the model to make a prediction\n",
        "prediction = siniragi.predict(img_array)\n",
        "\n",
        "# Output the prediction\n",
        "prediction\n"
      ]
    },
    {
      "cell_type": "code",
      "execution_count": null,
      "metadata": {
        "colab": {
          "base_uri": "https://localhost:8080/"
        },
        "id": "TYN2n2DRlwOg",
        "outputId": "416b1700-caaf-4b5b-af1c-458a3d2b2fd5"
      },
      "outputs": [
        {
          "name": "stdout",
          "output_type": "stream",
          "text": [
            "Predicted class: A\n"
          ]
        }
      ],
      "source": [
        "predicted_class_index = np.argmax(prediction)\n",
        "\n",
        "# Define class labels (you can customize these based on your problem)\n",
        "class_labels = [\n",
        "    'A', 'B', 'C', 'Ç', 'Ş', 'D', 'E', 'F',\n",
        "    'G', 'H', 'İ', 'J', 'K', 'L', 'M', 'N', 'O',\n",
        "    'Ü', 'I', 'O', 'P', 'R', 'S', 'T', 'U',\n",
        "    'V', 'Y', 'Ğ', 'Z'\n",
        "]\n",
        "\n",
        "# Get the predicted class label\n",
        "predicted_class_label = class_labels[predicted_class_index]\n",
        "\n",
        "print(f\"Predicted class: {predicted_class_label}\")"
      ]
    },
    {
      "cell_type": "code",
      "execution_count": null,
      "metadata": {
        "colab": {
          "base_uri": "https://localhost:8080/"
        },
        "id": "m1JjwlWRlwMD",
        "outputId": "4860f154-7034-47b9-ea2d-e2430d022e58"
      },
      "outputs": [
        {
          "name": "stdout",
          "output_type": "stream",
          "text": [
            "29\n"
          ]
        }
      ],
      "source": [
        "print(len(class_labels))"
      ]
    }
  ],
  "metadata": {
    "accelerator": "GPU",
    "colab": {
      "gpuType": "T4",
      "machine_shape": "hm",
      "provenance": []
    },
    "kernelspec": {
      "display_name": "Python 3",
      "name": "python3"
    },
    "language_info": {
      "name": "python"
    }
  },
  "nbformat": 4,
  "nbformat_minor": 0
}
